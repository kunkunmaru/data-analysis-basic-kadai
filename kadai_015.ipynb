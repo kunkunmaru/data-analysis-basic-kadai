{
  "nbformat": 4,
  "nbformat_minor": 0,
  "metadata": {
    "colab": {
      "provenance": [],
      "authorship_tag": "ABX9TyOOaOkkO8OYrhLA7xTqkTSL",
      "include_colab_link": true
    },
    "kernelspec": {
      "name": "python3",
      "display_name": "Python 3"
    },
    "language_info": {
      "name": "python"
    }
  },
  "cells": [
    {
      "cell_type": "markdown",
      "metadata": {
        "id": "view-in-github",
        "colab_type": "text"
      },
      "source": [
        "<a href=\"https://colab.research.google.com/github/kunkunmaru/data-analysis-basic-kadai/blob/main/kadai_015.ipynb\" target=\"_parent\"><img src=\"https://colab.research.google.com/assets/colab-badge.svg\" alt=\"Open In Colab\"/></a>"
      ]
    },
    {
      "cell_type": "code",
      "execution_count": 16,
      "metadata": {
        "id": "lolPMOHKpijR"
      },
      "outputs": [],
      "source": [
        "class Human:\n",
        "\n",
        "  def __init__ (self,name,age):\n",
        "    self.name=name\n",
        "    self.age = age\n",
        "\n",
        "  def printinfo(self,name,age):\n",
        "    print(self.name,self.age)\n",
        "\n",
        "\n",
        "\n",
        "\n"
      ]
    }
  ]
}